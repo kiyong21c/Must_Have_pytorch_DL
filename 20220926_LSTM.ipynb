{
  "cells": [
    {
      "cell_type": "markdown",
      "metadata": {
        "id": "view-in-github",
        "colab_type": "text"
      },
      "source": [
        "<a href=\"https://colab.research.google.com/github/kiyong21c/Must_Have_pytorch_DL/blob/main/20220926_LSTM.ipynb\" target=\"_parent\"><img src=\"https://colab.research.google.com/assets/colab-badge.svg\" alt=\"Open In Colab\"/></a>"
      ]
    },
    {
      "cell_type": "code",
      "source": [
        "from google.colab import drive\n",
        "drive.mount('/content/drive')"
      ],
      "metadata": {
        "id": "oQQRQArNZkp1",
        "outputId": "8a7feabb-baf7-4c9c-f979-5f796e556770",
        "colab": {
          "base_uri": "https://localhost:8080/"
        }
      },
      "execution_count": 1,
      "outputs": [
        {
          "output_type": "stream",
          "name": "stdout",
          "text": [
            "Mounted at /content/drive\n"
          ]
        }
      ]
    },
    {
      "cell_type": "markdown",
      "source": [
        "## 데이터 살펴보기\n",
        " - 뉴욕 타임스 코멘트 데이터 사용"
      ],
      "metadata": {
        "id": "INwQuJXhZybx"
      }
    },
    {
      "cell_type": "code",
      "source": [
        "import pandas as pd\n",
        "import os\n",
        "import string\n",
        "\n",
        "df = pd.read_csv(\"/content/drive/MyDrive/Colab Notebooks/data/CH10/ArticlesApril2017.csv\")\n",
        "print(df.columns)"
      ],
      "metadata": {
        "id": "p-Xy8kFtZ5Jk",
        "outputId": "e4f580f1-65ab-44ce-a86e-6e44af114c0b",
        "colab": {
          "base_uri": "https://localhost:8080/"
        }
      },
      "execution_count": 2,
      "outputs": [
        {
          "output_type": "stream",
          "name": "stdout",
          "text": [
            "Index(['abstract', 'articleID', 'articleWordCount', 'byline', 'documentType',\n",
            "       'headline', 'keywords', 'multimedia', 'newDesk', 'printPage', 'pubDate',\n",
            "       'sectionName', 'snippet', 'source', 'typeOfMaterial', 'webURL'],\n",
            "      dtype='object')\n"
          ]
        }
      ]
    },
    {
      "cell_type": "markdown",
      "source": [
        " - headline : 사람이 직접 작성한 기사"
      ],
      "metadata": {
        "id": "vZclrkWidkyw"
      }
    },
    {
      "cell_type": "code",
      "source": [
        "df['headline'][0]"
      ],
      "metadata": {
        "id": "W-NhSON2dhha",
        "outputId": "a21aef6b-d85a-4b23-ab2d-401bfd7fce46",
        "colab": {
          "base_uri": "https://localhost:8080/",
          "height": 35
        }
      },
      "execution_count": 3,
      "outputs": [
        {
          "output_type": "execute_result",
          "data": {
            "text/plain": [
              "'Finding an Expansive View  of a Forgotten People in Niger'"
            ],
            "application/vnd.google.colaboratory.intrinsic+json": {
              "type": "string"
            }
          },
          "metadata": {},
          "execution_count": 3
        }
      ]
    },
    {
      "cell_type": "code",
      "source": [
        "df['headline'].shape # 886개의 헤드라인"
      ],
      "metadata": {
        "id": "H7hrWpClgRyl",
        "outputId": "84050d19-fc56-4bc6-cbe4-571ca99ef05c",
        "colab": {
          "base_uri": "https://localhost:8080/"
        }
      },
      "execution_count": 8,
      "outputs": [
        {
          "output_type": "execute_result",
          "data": {
            "text/plain": [
              "(886,)"
            ]
          },
          "metadata": {},
          "execution_count": 8
        }
      ]
    },
    {
      "cell_type": "code",
      "source": [
        "type(df.headline.values)"
      ],
      "metadata": {
        "id": "Qc7p6mROiT92",
        "outputId": "d855451c-b675-4473-ecfd-33fb87ca5de9",
        "colab": {
          "base_uri": "https://localhost:8080/"
        }
      },
      "execution_count": 16,
      "outputs": [
        {
          "output_type": "execute_result",
          "data": {
            "text/plain": [
              "numpy.ndarray"
            ]
          },
          "metadata": {},
          "execution_count": 16
        }
      ]
    },
    {
      "cell_type": "markdown",
      "source": [
        "## 학습용 데이터 만들기\n",
        " - 1. 구두점, 특수문자 제거\n",
        " - 2. 단어마다 고유번호 사전(BOW)\n",
        " - 3. 자연어 문장속 단어들을 고유번호로 바꿔 새로운 문장생성\n",
        " - 4. 두개의 단어와 다음에 올 단어를 반환하도록 데이터셋 객체 생성"
      ],
      "metadata": {
        "id": "qGTZeF-Id-B-"
      }
    },
    {
      "cell_type": "code",
      "source": [
        "import numpy as np\n",
        "import glob\n",
        "\n",
        "from torch.utils.data.dataset import Dataset\n",
        "\n",
        "# 학습에 사용할 데이터셋 객체 정의\n",
        "class TextGeneration(Dataset):\n",
        "    # 텍스트 → 소문자, 특수문자 제거하는 함수\n",
        "    def clean_text(self, txt): # txt로 받을것 : 기사문자열\n",
        "        txt = \"\".join(v for v in txt if v not in string.punctuation) # 리스트에 들어있는 각 문자열을 합침(빈공백으로), 특수문자 제외\n",
        "        # string.punctuation : 특수문자모아놓은 리스트\n",
        "        txt = txt.lower()\n",
        "        return txt\n",
        "    \n",
        "    def  __init__(self):\n",
        "        all_headlines = []\n",
        "\n",
        "        # 모든 헤드라인의 텍스트를 불러옴\n",
        "        for filename in glob.glob(\"/content/drive/MyDrive/Colab Notebooks/data/CH10/*.csv\"):\n",
        "            if 'Articles' in filename: # 기사에 해당되는 파일만 선별해서 df으로\n",
        "                article_df = pd.read_csv(filename)\n",
        "                \n",
        "                # 데이터셋의 headline값을 all_headlines에 추가\n",
        "                all_headlines.extend(list(article_df['headline'].values)) # .values : array\n",
        "                # list.extend(iterable) : iterable객체(그대로가 아닌) 요소들을 list에 넣는다\n",
        "                break\n",
        "\n",
        "        # headline중 Unknown값 제거\n",
        "        all_headlines = [h for h in all_headlines if h!= \"Unknown\"]\n",
        "\n",
        "        # 구두점 제거 및 전처리가 된 문장들을 리스트로 반환\n",
        "        self.corpus = [self.clean_text(x) for x in all_headlines]\n",
        "        self.BOW = {} # {\"단어\" : 고유숫자}\n",
        "\n",
        "        # 모든 문장의 단어를 추출해 고유 번호 지정\n",
        "        for line in self.corpus: # line : 전처리된 각 헤드라인 문장\n",
        "            for word in line.split(): # word : 단어 단위\n",
        "                if word not in self.BOW.keys():\n",
        "                    self.BOW[word] = len(self.BOW.keys())\n",
        "\n",
        "\n",
        "\n",
        "\n"
      ],
      "metadata": {
        "id": "6qvkObJjd6_V"
      },
      "execution_count": null,
      "outputs": []
    },
    {
      "cell_type": "code",
      "source": [
        "a = ['a', 'b', 'c', '!', 'd']\n",
        "\"\".join(a)"
      ],
      "metadata": {
        "id": "PmDqn7yEgcqY",
        "outputId": "9dc1e625-3d8d-4aa1-efa6-e1409f44e9b8",
        "colab": {
          "base_uri": "https://localhost:8080/",
          "height": 35
        }
      },
      "execution_count": 36,
      "outputs": [
        {
          "output_type": "execute_result",
          "data": {
            "text/plain": [
              "'abc!d'"
            ],
            "application/vnd.google.colaboratory.intrinsic+json": {
              "type": "string"
            }
          },
          "metadata": {},
          "execution_count": 36
        }
      ]
    },
    {
      "cell_type": "code",
      "source": [
        "b = \"\".join(v for v in a if v not in string.punctuation) # string.punctuation : 특수문자모아놓은 리스트\n",
        "b"
      ],
      "metadata": {
        "id": "fGE0qGjqg1IT",
        "outputId": "6b62d4a5-f1a7-4c69-a613-e5878af266a9",
        "colab": {
          "base_uri": "https://localhost:8080/",
          "height": 35
        }
      },
      "execution_count": 37,
      "outputs": [
        {
          "output_type": "execute_result",
          "data": {
            "text/plain": [
              "'abcd'"
            ],
            "application/vnd.google.colaboratory.intrinsic+json": {
              "type": "string"
            }
          },
          "metadata": {},
          "execution_count": 37
        }
      ]
    },
    {
      "cell_type": "code",
      "source": [
        "len(b.split())"
      ],
      "metadata": {
        "id": "ZjlRaK_f_rA0",
        "outputId": "592467ae-5635-4942-928d-1109c279077a",
        "colab": {
          "base_uri": "https://localhost:8080/"
        }
      },
      "execution_count": 39,
      "outputs": [
        {
          "output_type": "execute_result",
          "data": {
            "text/plain": [
              "1"
            ]
          },
          "metadata": {},
          "execution_count": 39
        }
      ]
    },
    {
      "cell_type": "code",
      "source": [
        "b= ['a','b','c']\n",
        "c = [['ab','cd']]"
      ],
      "metadata": {
        "id": "TSIBZkQag8x7"
      },
      "execution_count": 29,
      "outputs": []
    },
    {
      "cell_type": "code",
      "source": [
        "b.extend(c)"
      ],
      "metadata": {
        "id": "ctTzucl1ktYh"
      },
      "execution_count": 30,
      "outputs": []
    },
    {
      "cell_type": "code",
      "source": [
        "df['headline'][0]"
      ],
      "metadata": {
        "id": "fRVqa4mj9kce",
        "outputId": "1e7b8017-2630-48aa-cbc5-c2097c93dfee",
        "colab": {
          "base_uri": "https://localhost:8080/",
          "height": 35
        }
      },
      "execution_count": 40,
      "outputs": [
        {
          "output_type": "execute_result",
          "data": {
            "text/plain": [
              "'Finding an Expansive View  of a Forgotten People in Niger'"
            ],
            "application/vnd.google.colaboratory.intrinsic+json": {
              "type": "string"
            }
          },
          "metadata": {},
          "execution_count": 40
        }
      ]
    },
    {
      "cell_type": "code",
      "source": [
        "\"\".join(v for v in list(df['headline'][0]) if v not in string.punctuation)"
      ],
      "metadata": {
        "id": "jz_YixfFAC1X",
        "outputId": "bb562056-ef1d-4c95-f46f-89f78be9c0b3",
        "colab": {
          "base_uri": "https://localhost:8080/",
          "height": 35
        }
      },
      "execution_count": 43,
      "outputs": [
        {
          "output_type": "execute_result",
          "data": {
            "text/plain": [
              "'Finding an Expansive View  of a Forgotten People in Niger'"
            ],
            "application/vnd.google.colaboratory.intrinsic+json": {
              "type": "string"
            }
          },
          "metadata": {},
          "execution_count": 43
        }
      ]
    },
    {
      "cell_type": "code",
      "source": [
        "e = {'e':[1,2,3,4]}\n"
      ],
      "metadata": {
        "id": "ZsILyfItAgQV"
      },
      "execution_count": 1,
      "outputs": []
    },
    {
      "cell_type": "code",
      "source": [
        "e['e']"
      ],
      "metadata": {
        "id": "DeALB8Qzeauk",
        "outputId": "e6d72ac6-6f88-4744-c560-73419bca45fc",
        "colab": {
          "base_uri": "https://localhost:8080/"
        }
      },
      "execution_count": 4,
      "outputs": [
        {
          "output_type": "execute_result",
          "data": {
            "text/plain": [
              "[1, 2, 3, 4]"
            ]
          },
          "metadata": {},
          "execution_count": 4
        }
      ]
    },
    {
      "cell_type": "code",
      "source": [],
      "metadata": {
        "id": "6oWa7V9Iebji"
      },
      "execution_count": null,
      "outputs": []
    }
  ],
  "metadata": {
    "colab": {
      "collapsed_sections": [],
      "name": "Colaboratory에 오신 것을 환영합니다",
      "provenance": [],
      "include_colab_link": true
    },
    "kernelspec": {
      "display_name": "Python 3",
      "name": "python3"
    }
  },
  "nbformat": 4,
  "nbformat_minor": 0
}