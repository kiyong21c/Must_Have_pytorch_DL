{
  "cells": [
    {
      "cell_type": "markdown",
      "metadata": {
        "id": "view-in-github",
        "colab_type": "text"
      },
      "source": [
        "<a href=\"https://colab.research.google.com/github/kiyong21c/Must_Have_pytorch_DL/blob/main/20220929_bayesianOptimization.ipynb\" target=\"_parent\"><img src=\"https://colab.research.google.com/assets/colab-badge.svg\" alt=\"Open In Colab\"/></a>"
      ]
    },
    {
      "cell_type": "markdown",
      "source": [
        "### 베이지안 최적화(bayesian optimization)\n",
        " - 하이퍼파라미터 값을 확률적으로 추정하며 탐색하는 기법\n",
        " - 그리드서치나 랜덤서치보다 빠르고 효율적\n",
        " - bayes_opt 패키지 사용\n",
        "\n",
        "  > 1.하이퍼파라미터 탐색범위 설정\n",
        "\n",
        "  > 2.평가지표 계산 함수(성능 평가 함수) 정의\n",
        "\n",
        "  > 3.BayesianOptimization 객체 생성 : '평가지표 계산 함수'와 '하이퍼파라미터 탐색범위'를 입력받음\n",
        "\n",
        "  > 4.베이지안 최적화 수행 : BayesianOptimization객체의 maximize()메서드 호출\n",
        "\n",
        "  > 평가지표 값이 가장 좋았을 떄의 하이퍼파라미터 값을 최적 하이퍼파라미터로 간주"
      ],
      "metadata": {
        "id": "Re4nnQK2XT1R"
      }
    },
    {
      "cell_type": "markdown",
      "source": [
        "![image.png](data:image/png;base64,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)"
      ],
      "metadata": {
        "id": "er0iwPhYgbIi"
      }
    },
    {
      "cell_type": "code",
      "source": [
        "# 1. 하이퍼파라미터 탐색 범위 설정\n",
        "\n",
        "param_bounds = {'x':(-1, 5), 'y':(0, 4)}\n",
        "# 딕셔너리형태로 정의\n",
        "# 키에 하이퍼파라미터 이름을, 값에 하이퍼라이미터 범위(튜플형태) 지정\n",
        "# (-1, 5) : -1 ~ 5사이 탐색"
      ],
      "metadata": {
        "id": "d2fXs-KEXTce"
      },
      "execution_count": 1,
      "outputs": []
    },
    {
      "cell_type": "code",
      "source": [
        "# 2. 평가지표 계산함수 정의\n",
        "\n",
        "def eval_function(x, y):\n",
        "    return -x ** 2 - (y -2) ** 2 + 10"
      ],
      "metadata": {
        "id": "TJdsVmQvhkts"
      },
      "execution_count": 2,
      "outputs": []
    },
    {
      "cell_type": "code",
      "source": [
        "# 3. 베이지안 최적화 객체 생성\n",
        "# !pip install bayesian-optimization\n",
        "from bayes_opt import BayesianOptimization\n",
        "\n",
        "optimizer = BayesianOptimization(f=eval_function,\n",
        "                                 pbounds=param_bounds,\n",
        "                                 random_state=0)\n",
        "# 파라미터 f : 최대화하려는 평가지표 계산 함수'명' 전달\n",
        "# 파라미터 pbounds : 하이퍼파라미터 범위"
      ],
      "metadata": {
        "id": "R3GJx1pph0zO"
      },
      "execution_count": 6,
      "outputs": []
    },
    {
      "cell_type": "code",
      "source": [
        "# 4. 최적화 수행\n",
        "\n",
        "optimizer.maximize(init_points=2, n_iter=10)\n",
        "# init_points : 랜던 탐색을 수행할 스텝 횟수(탐색 공간을 다양화함)\n",
        "# n_iter : 베이지안 최적화를 수행할 스텝 횟수"
      ],
      "metadata": {
        "id": "mHbQmxG0i214",
        "outputId": "0035c3cb-e2fa-42e2-bbe5-af262396ae34",
        "colab": {
          "base_uri": "https://localhost:8080/"
        }
      },
      "execution_count": 7,
      "outputs": [
        {
          "output_type": "stream",
          "name": "stdout",
          "text": [
            "|   iter    |  target   |     x     |     y     |\n",
            "-------------------------------------------------\n",
            "| \u001b[0m 1       \u001b[0m | \u001b[0m 4.002   \u001b[0m | \u001b[0m 2.293   \u001b[0m | \u001b[0m 2.861   \u001b[0m |\n",
            "| \u001b[0m 2       \u001b[0m | \u001b[0m 3.121   \u001b[0m | \u001b[0m 2.617   \u001b[0m | \u001b[0m 2.18    \u001b[0m |\n",
            "| \u001b[0m 3       \u001b[0m | \u001b[0m 3.832   \u001b[0m | \u001b[0m 2.327   \u001b[0m | \u001b[0m 2.869   \u001b[0m |\n",
            "| \u001b[95m 4       \u001b[0m | \u001b[95m 4.596   \u001b[0m | \u001b[95m 2.171   \u001b[0m | \u001b[95m 2.832   \u001b[0m |\n",
            "| \u001b[0m 5       \u001b[0m | \u001b[0m-6.227   \u001b[0m | \u001b[0m 3.989   \u001b[0m | \u001b[0m 2.559   \u001b[0m |\n",
            "| \u001b[95m 6       \u001b[0m | \u001b[95m 9.467   \u001b[0m | \u001b[95m 0.3522  \u001b[0m | \u001b[95m 1.361   \u001b[0m |\n",
            "| \u001b[0m 7       \u001b[0m | \u001b[0m 7.39    \u001b[0m | \u001b[0m-1.0     \u001b[0m | \u001b[0m 3.269   \u001b[0m |\n",
            "| \u001b[0m 8       \u001b[0m | \u001b[0m 5.0     \u001b[0m | \u001b[0m-1.0     \u001b[0m | \u001b[0m 0.0     \u001b[0m |\n",
            "| \u001b[0m 9       \u001b[0m | \u001b[0m 3.841   \u001b[0m | \u001b[0m 1.469   \u001b[0m | \u001b[0m 0.0     \u001b[0m |\n",
            "| \u001b[0m 10      \u001b[0m | \u001b[0m 8.966   \u001b[0m | \u001b[0m-1.0     \u001b[0m | \u001b[0m 1.817   \u001b[0m |\n",
            "| \u001b[95m 11      \u001b[0m | \u001b[95m 9.737   \u001b[0m | \u001b[95m 0.1806  \u001b[0m | \u001b[95m 2.48    \u001b[0m |\n",
            "| \u001b[0m 12      \u001b[0m | \u001b[0m 5.785   \u001b[0m | \u001b[0m 0.4638  \u001b[0m | \u001b[0m 4.0     \u001b[0m |\n",
            "=================================================\n"
          ]
        }
      ]
    },
    {
      "cell_type": "markdown",
      "source": [
        " - 기존평가점수 최댓값 갱신시 빨간색 표시\n",
        " - 빨간색 표시 중 마지막 빨간색 표시값이 전체에서 최대\n",
        " - 최적의 하이퍼파라미터 : x=0.181, y=2.48"
      ],
      "metadata": {
        "id": "4zbkb7DSjkUj"
      }
    },
    {
      "cell_type": "code",
      "source": [
        "# 5. 최적의 하이퍼파라미터 확인\n",
        "optimizer.max"
      ],
      "metadata": {
        "id": "30gsu_HHiXWD",
        "outputId": "b5c82551-7c5d-4656-cd9d-d99f9cf82605",
        "colab": {
          "base_uri": "https://localhost:8080/"
        }
      },
      "execution_count": 8,
      "outputs": [
        {
          "output_type": "execute_result",
          "data": {
            "text/plain": [
              "{'target': 9.737086714115259,\n",
              " 'params': {'x': 0.18063750530344547, 'y': 2.479878502917653}}"
            ]
          },
          "metadata": {},
          "execution_count": 8
        }
      ]
    }
  ],
  "metadata": {
    "colab": {
      "collapsed_sections": [],
      "name": "Colaboratory에 오신 것을 환영합니다",
      "provenance": [],
      "include_colab_link": true
    },
    "kernelspec": {
      "display_name": "Python 3",
      "name": "python3"
    }
  },
  "nbformat": 4,
  "nbformat_minor": 0
}