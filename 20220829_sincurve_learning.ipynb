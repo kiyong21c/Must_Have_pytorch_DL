{
  "nbformat": 4,
  "nbformat_minor": 0,
  "metadata": {
    "colab": {
      "name": "Untitled2.ipynb",
      "provenance": [],
      "mount_file_id": "1RTwEutRbCwbfBM4-LaWURyTGq6Cvqdtg",
      "authorship_tag": "ABX9TyPlOgSH6LKmpA0TKDj+AmUh",
      "include_colab_link": true
    },
    "kernelspec": {
      "name": "python3",
      "display_name": "Python 3"
    },
    "language_info": {
      "name": "python"
    }
  },
  "cells": [
    {
      "cell_type": "markdown",
      "metadata": {
        "id": "view-in-github",
        "colab_type": "text"
      },
      "source": [
        "<a href=\"https://colab.research.google.com/github/kiyong21c/Must_Have_pytorch_DL/blob/main/20220829_sincurve_learning.ipynb\" target=\"_parent\"><img src=\"https://colab.research.google.com/assets/colab-badge.svg\" alt=\"Open In Colab\"/></a>"
      ]
    },
    {
      "cell_type": "markdown",
      "source": [
        "# 사인 함수를 3차 다항식의 계수를 이용해 예측\n",
        " - 알고리즘 : MLP\n",
        " - 데이터셋 : 사용 X\n",
        " - 문제유형 : 회귀\n",
        " - 평가지표 : 평균 제곱 오차"
      ],
      "metadata": {
        "id": "MbPWAf11BdQE"
      }
    },
    {
      "cell_type": "code",
      "execution_count": 26,
      "metadata": {
        "colab": {
          "base_uri": "https://localhost:8080/",
          "height": 281
        },
        "id": "gJctI8Md4KkW",
        "outputId": "5da1d724-df81-4ef4-b523-b0ae2f87a8c6"
      },
      "outputs": [
        {
          "output_type": "display_data",
          "data": {
            "text/plain": [
              "<Figure size 432x288 with 2 Axes>"
            ],
            "image/png": "[encoded data removed]"
          },
          "metadata": {
            "needs_background": "light"
          }
        }
      ],
      "source": [
        "import math\n",
        "import torch\n",
        "import matplotlib.pyplot as plt\n",
        "\n",
        "# -pi부터 +pi 사이에서 점 1,000개를 추출\n",
        "x = torch.linspace(-math.pi, math.pi, 1000) # np.linspace() 와 사용방법 동일\n",
        "# 실제 사인곡선에서 추출한 값으로 y 만들기\n",
        "y = torch.sin(x)\n",
        "\n",
        "# 예측 사인곡선에 사용할 임의의 가중치(계수)를 뽑아 y만들기\n",
        "a = torch.randn(()) # torch.randn() : 평균0, 표준편차1인 랜덤 실수\n",
        "b = torch.randn(())\n",
        "c = torch.randn(())\n",
        "d = torch.randn(())\n",
        "\n",
        "# 사인 함수를 근사할 3차 다항식 정의\n",
        "y_random = a * x **3 + b * x **2 + c * x + d\n",
        "\n",
        "# 1. 실제 사인 곡선으로 실제 y값 만들기\n",
        "plt.subplot(2,1,1)\n",
        "plt.title('y_true')\n",
        "plt.plot(x, y)\n",
        "\n",
        "# 2. 임의의 가중치로 만든 y값 만들기\n",
        "plt.subplot(2,1,2)\n",
        "plt.title('y_pred')\n",
        "plt.plot(x, y_random);"
      ]
    },
    {
      "cell_type": "markdown",
      "source": [
        " - 임의의 가중치인 a,b,c,d는 학습되기 전이기 때문에 완전히 다른모양의 그래프"
      ],
      "metadata": {
        "id": "9gNOvVj60dQ4"
      }
    },
    {
      "cell_type": "code",
      "source": [
        "y_random.shape"
      ],
      "metadata": {
        "colab": {
          "base_uri": "https://localhost:8080/"
        },
        "id": "w6JOp6us2QEx",
        "outputId": "b8eabd87-5bfb-4ec1-b065-dae6f5506d4c"
      },
      "execution_count": 19,
      "outputs": [
        {
          "output_type": "execute_result",
          "data": {
            "text/plain": [
              "torch.Size([1000])"
            ]
          },
          "metadata": {},
          "execution_count": 19
        }
      ]
    },
    {
      "cell_type": "code",
      "source": [
        "learning_rate = 0.000001 # 학습률 정의(1e-6)\n",
        "\n",
        "# 학습 2,000번 진행\n",
        "for epoch in range(2000):\n",
        "    # 반복문의 첫 시작에서는 a,b,c,d 랜덤한 실수로 시작(앞서 정의함)\n",
        "    y_pred = a * x **3 + b * x **2 + c * x + d\n",
        "\n",
        "    # 손실(loss) 정의\n",
        "    loss = (y_pred - y).pow(2).sum().item() # y_pred, y는 각각 1000개의 값을 갖고 있음(by linspace)\n",
        "    # 100번째 마다 epoch의 loss 출력\n",
        "    if epoch % 100 == 0:\n",
        "        print(f'epoch{epoch+1} loss:{loss}')\n",
        "    \n",
        "    # 가중치의 미분값 정의\n",
        "    # 손실\u001d(loss)을 y로 미분 : dloss/dy → 손실에 대한 y의 영향\n",
        "    grad_y_pred = 2.0 * (y_pred - y) # toch.tensor() 형식이며, torch.size([1000])\n",
        "    # 손실\u001d(loss)을 a로\u001e 미분 : dloss/da = dloss/dy * dy/da → 손실에 대한 a의 영향\n",
        "    grad_a = (grad_y_pred * x ** 3).sum()\n",
        "    # 손실\u001d(loss)을 b로\u001e 미분 : dloss/db = dloss/dy * dy/db\n",
        "    grad_b = (grad_y_pred * x ** 2).sum()\n",
        "    # 손실\u001d(loss)을 c로\u001e 미분 : dloss/dc = dloss/dy * dy/dc\n",
        "    grad_c = (grad_y_pred * x).sum()\n",
        "    # 손실(loss)을 d로 미분 : dloss/dd = dloss/dy * dy/dd\n",
        "    grad_d = grad_y_pred.sum()\n",
        "\n",
        "    # 가중치 업데이트\n",
        "    a -= learning_rate * grad_a # 가중치를 손실에 대한 영향력 만큼 수정\n",
        "    b -= learning_rate * grad_b\n",
        "    c -= learning_rate * grad_c\n",
        "    d -= learning_rate * grad_d\n",
        "    # 반복문의 처음으로 돌아갈때는 업데이트 된 가중치를 가지고 가게됨\n",
        "\n",
        "# 1. 실제 사인 곡선으로 실제 y값 만들기\n",
        "plt.subplot(2,1,1)\n",
        "plt.title('y_true')\n",
        "plt.plot(x, y)\n",
        "\n",
        "# 2. 임의의 가중치로 만든 y값 만들기\n",
        "plt.subplot(2,1,2)\n",
        "plt.title('y_pred')\n",
        "plt.plot(x, y_pred);"
      ],
      "metadata": {
        "colab": {
          "base_uri": "https://localhost:8080/",
          "height": 638
        },
        "id": "9Wgie9IGyr4T",
        "outputId": "56c3ab1c-c6f8-4f62-9762-ea35a882842c"
      },
      "execution_count": 27,
      "outputs": [
        {
          "output_type": "stream",
          "name": "stdout",
          "text": [
            "epoch1 loss:122134.578125\n",
            "epoch101 loss:1207.283447265625\n",
            "epoch201 loss:1010.1643676757812\n",
            "epoch301 loss:846.2833251953125\n",
            "epoch401 loss:709.2085571289062\n",
            "epoch501 loss:594.535888671875\n",
            "epoch601 loss:498.5886535644531\n",
            "epoch701 loss:418.2978515625\n",
            "epoch801 loss:351.09783935546875\n",
            "epoch901 loss:294.8460388183594\n",
            "epoch1001 loss:247.75198364257812\n",
            "epoch1101 loss:208.31951904296875\n",
            "epoch1201 loss:175.29733276367188\n",
            "epoch1301 loss:147.63999938964844\n",
            "epoch1401 loss:124.47273254394531\n",
            "epoch1501 loss:105.06413269042969\n",
            "epoch1601 loss:88.80242156982422\n",
            "epoch1701 loss:75.17573547363281\n",
            "epoch1801 loss:63.75565719604492\n",
            "epoch1901 loss:54.1838493347168\n"
          ]
        },
        {
          "output_type": "display_data",
          "data": {
            "text/plain": [
              "<Figure size 432x288 with 2 Axes>"
            ],
            "image/png": "[encoded data removed]"
          },
          "metadata": {
            "needs_background": "light"
          }
        }
      ]
    },
    {
      "cell_type": "markdown",
      "source": [
        " - torch.sin(x)는 x가 -pi부터 pi범위 안에서는 3차함수의 곡선 형상\n",
        " - 따라서, 임의의 3차함수의 학습을 통해 유사한 곡선을 만들 수 있음"
      ],
      "metadata": {
        "id": "tqGe5RbG9Ne4"
      }
    }
  ]
}