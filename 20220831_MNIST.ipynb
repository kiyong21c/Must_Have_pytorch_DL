{
  "cells": [
    {
      "cell_type": "markdown",
      "metadata": {
        "id": "view-in-github",
        "colab_type": "text"
      },
      "source": [
        "<a href=\"https://colab.research.google.com/github/kiyong21c/Must_Have_pytorch_DL/blob/main/20220831_MNIST.ipynb\" target=\"_parent\"><img src=\"https://colab.research.google.com/assets/colab-badge.svg\" alt=\"Open In Colab\"/></a>"
      ]
    },
    {
      "cell_type": "code",
      "source": [
        "from google.colab import drive\n",
        "drive.mount('/content/drive')"
      ],
      "metadata": {
        "id": "xKxe4a5otxwi",
        "outputId": "009d810d-f773-4f4b-dcdf-c512fa82878d",
        "colab": {
          "base_uri": "https://localhost:8080/"
        }
      },
      "execution_count": 1,
      "outputs": [
        {
          "output_type": "stream",
          "name": "stdout",
          "text": [
            "Mounted at /content/drive\n"
          ]
        }
      ]
    },
    {
      "cell_type": "markdown",
      "source": [
        "# 손글씨 이미지를 입력받아 숫자 에측\n",
        " - 알고리즘 : MLP\n",
        " - 문제유형 : 다중분류\n",
        " - 평가지표 : CE오차"
      ],
      "metadata": {
        "id": "v8q-Lmwkt319"
      }
    },
    {
      "cell_type": "code",
      "source": [
        "import matplotlib.pyplot as plt\n",
        "\n",
        "from torchvision.datasets.mnist import MNIST\n",
        "from torchvision.transforms import ToTensor\n",
        "\n",
        "# 학습용 데이터 평가용 데이터 분리\n",
        "training_data = MNIST(root='./', train=True, download=True, transform=ToTensor())\n",
        "test_data = MNIST(root='./', train=True, download=True, transform=ToTensor())"
      ],
      "metadata": {
        "id": "f8MPYWltuKOZ"
      },
      "execution_count": null,
      "outputs": []
    },
    {
      "cell_type": "code",
      "source": [
        "print(len(training_data), len(test_data))"
      ],
      "metadata": {
        "id": "HWvob_kWuxQC",
        "outputId": "ebf67c64-a304-4fed-83f4-1de84de0607b",
        "colab": {
          "base_uri": "https://localhost:8080/"
        }
      },
      "execution_count": 4,
      "outputs": [
        {
          "output_type": "stream",
          "name": "stdout",
          "text": [
            "60000 60000\n"
          ]
        }
      ]
    },
    {
      "cell_type": "code",
      "source": [
        "# training_data의 클래스 확인\n",
        "training_data.classes"
      ],
      "metadata": {
        "id": "jxWhG-UVvVlG",
        "outputId": "e35635e3-cb33-4cc8-f0ea-9dbf9cdd9e7d",
        "colab": {
          "base_uri": "https://localhost:8080/"
        }
      },
      "execution_count": 12,
      "outputs": [
        {
          "output_type": "execute_result",
          "data": {
            "text/plain": [
              "['0 - zero',\n",
              " '1 - one',\n",
              " '2 - two',\n",
              " '3 - three',\n",
              " '4 - four',\n",
              " '5 - five',\n",
              " '6 - six',\n",
              " '7 - seven',\n",
              " '8 - eight',\n",
              " '9 - nine']"
            ]
          },
          "metadata": {},
          "execution_count": 12
        }
      ]
    },
    {
      "cell_type": "code",
      "source": [
        "# training_data의 레이블 확인\n",
        "training_data.train_labels"
      ],
      "metadata": {
        "id": "VQ6vTJd_wMJN",
        "outputId": "c3876b31-1f10-49c2-c6d9-50cf7afcd9a4",
        "colab": {
          "base_uri": "https://localhost:8080/"
        }
      },
      "execution_count": 21,
      "outputs": [
        {
          "output_type": "stream",
          "name": "stderr",
          "text": [
            "/usr/local/lib/python3.7/dist-packages/torchvision/datasets/mnist.py:65: UserWarning: train_labels has been renamed targets\n",
            "  warnings.warn(\"train_labels has been renamed targets\")\n"
          ]
        },
        {
          "output_type": "execute_result",
          "data": {
            "text/plain": [
              "tensor([5, 0, 4,  ..., 5, 6, 8])"
            ]
          },
          "metadata": {},
          "execution_count": 21
        }
      ]
    },
    {
      "cell_type": "code",
      "source": [
        "# training_data의 데이터 차원 확인\n",
        "training_data.data.shape"
      ],
      "metadata": {
        "id": "fYg_WYcovkWu",
        "outputId": "89997d21-f7bb-4366-d4aa-140bfe2fe754",
        "colab": {
          "base_uri": "https://localhost:8080/"
        }
      },
      "execution_count": 13,
      "outputs": [
        {
          "output_type": "execute_result",
          "data": {
            "text/plain": [
              "torch.Size([60000, 28, 28])"
            ]
          },
          "metadata": {},
          "execution_count": 13
        }
      ]
    },
    {
      "cell_type": "code",
      "source": [
        "for i in range(9):\n",
        "    plt.subplot(3,3,i+1)\n",
        "    plt.imshow(training_data.data[i])\n",
        "    plt.title(training_data.train_labels[i].item()); # item() : tensor의 값만 가져오기"
      ],
      "metadata": {
        "id": "YwzEvokKu1RR",
        "outputId": "6b37655c-c23e-4a32-f2a6-ac191b5d529d",
        "colab": {
          "base_uri": "https://localhost:8080/",
          "height": 281
        }
      },
      "execution_count": 24,
      "outputs": [
        {
          "output_type": "display_data",
          "data": {
            "text/plain": [
              "<Figure size 432x288 with 9 Axes>"
            ],
            "image/png": "[encoded data removed]"
          },
          "metadata": {
            "needs_background": "light"
          }
        }
      ]
    },
    {
      "cell_type": "markdown",
      "source": [
        "### 데이터 불러오기 \n",
        " - Dataloader() 메서드 : 학습/평가에 사용할 배치를 자동으로 반환\n",
        " - 배치 크기, 셔플여부, 사용될 CPU개수 등 설정"
      ],
      "metadata": {
        "id": "NkOoye-3wtqo"
      }
    },
    {
      "cell_type": "code",
      "source": [
        "from torch.utils.data.dataloader import DataLoader\n",
        "\n",
        "\n",
        "train_loader = DataLoader(training_data, batch_size=32, shuffle=True) # 학습에 사용되는 데이터는 섞어주자\n",
        "# training_data의 60000개의 숫자가 0부터 순차적이라면 학습에 문제가 될 것  → 섞어준다\n",
        "\n",
        "\n",
        "# 평가용 데이터는 학습에 사용되는것이 아니므로 섞을 필요 없음\n",
        "test_loader = DataLoader(test_data, batch_size=32, shuffle=False)"
      ],
      "metadata": {
        "id": "7ayv2_lZv5Sk"
      },
      "execution_count": 26,
      "outputs": []
    },
    {
      "cell_type": "code",
      "source": [
        "train_loader # 데이터로더는 제너레이터"
      ],
      "metadata": {
        "id": "DkMTBAlrzprR",
        "outputId": "8ce0cfd0-db3e-4a0a-84f2-6c63c6ad6bbf",
        "colab": {
          "base_uri": "https://localhost:8080/"
        }
      },
      "execution_count": 27,
      "outputs": [
        {
          "output_type": "execute_result",
          "data": {
            "text/plain": [
              "<torch.utils.data.dataloader.DataLoader at 0x7f883d79d050>"
            ]
          },
          "metadata": {},
          "execution_count": 27
        }
      ]
    },
    {
      "cell_type": "code",
      "source": [
        "len(train_loader) # 1875 : 60000개의 이미지를 배치크기(32)로 나누었을 때 1875"
      ],
      "metadata": {
        "id": "D7l221Zr5GAh",
        "outputId": "2ea1653f-7fba-4ae4-e7ef-696eaef68891",
        "colab": {
          "base_uri": "https://localhost:8080/"
        }
      },
      "execution_count": 54,
      "outputs": [
        {
          "output_type": "execute_result",
          "data": {
            "text/plain": [
              "1875"
            ]
          },
          "metadata": {},
          "execution_count": 54
        }
      ]
    },
    {
      "cell_type": "code",
      "source": [
        "dir(train_loader) # __iter__ : iter(데이터로더)"
      ],
      "metadata": {
        "id": "P_iCpsTGzr_F"
      },
      "execution_count": null,
      "outputs": []
    },
    {
      "cell_type": "code",
      "source": [
        "dir(iter(train_loader)) # __next__, next : 두가지 방식으로 메서드 사용 가능"
      ],
      "metadata": {
        "id": "KkdkmGVY1ZRd"
      },
      "execution_count": null,
      "outputs": []
    },
    {
      "cell_type": "code",
      "source": [
        "# 1) __next__ 메서드 사용\n",
        "data, label = next(iter(train_loader))\n",
        "print(data.shape, label.shape)"
      ],
      "metadata": {
        "id": "SeBqydjE1mOu",
        "outputId": "b4f590b3-1aa9-4c99-b4bd-ce7e46110034",
        "colab": {
          "base_uri": "https://localhost:8080/"
        }
      },
      "execution_count": 45,
      "outputs": [
        {
          "output_type": "stream",
          "name": "stdout",
          "text": [
            "torch.Size([32, 1, 28, 28]) torch.Size([32])\n"
          ]
        }
      ]
    },
    {
      "cell_type": "code",
      "source": [
        "# 2) next 메서드 사용\n",
        "data, label = iter(train_loader).next()\n",
        "print(data.shape, label.shape)"
      ],
      "metadata": {
        "id": "s_x9EfFy1jMX",
        "outputId": "681425bb-1dd5-49d3-e6b9-9529d390490d",
        "colab": {
          "base_uri": "https://localhost:8080/"
        }
      },
      "execution_count": 44,
      "outputs": [
        {
          "output_type": "stream",
          "name": "stdout",
          "text": [
            "torch.Size([32, 1, 28, 28]) torch.Size([32])\n"
          ]
        }
      ]
    },
    {
      "cell_type": "code",
      "source": [
        "import numpy as np\n",
        "def imshow(img):\n",
        "    torch_img = img/2 + 0.5 # unnormalize\n",
        "    np_img = torch_img.numpy() # imshow(np_img)\n",
        "    plt.imshow(np.transpose(np_img, (1,2,0)))"
      ],
      "metadata": {
        "id": "tIl24dR32ZxZ"
      },
      "execution_count": 48,
      "outputs": []
    },
    {
      "cell_type": "code",
      "source": [
        "import torchvision\n",
        "# torchvision.utils.make_grid(data).shape # torch.Size([3, 122, 242]) : RGB, Height, Width\n",
        "imshow(torchvision.utils.make_grid(data))"
      ],
      "metadata": {
        "id": "npQgpqmY38qb",
        "outputId": "6b1b99e1-54af-441d-f8c1-38863c77514f",
        "colab": {
          "base_uri": "https://localhost:8080/",
          "height": 220
        }
      },
      "execution_count": 53,
      "outputs": [
        {
          "output_type": "display_data",
          "data": {
            "text/plain": [
              "<Figure size 432x288 with 1 Axes>"
            ],
            "image/png": "[encoded data removed]"
          },
          "metadata": {
            "needs_background": "light"
          }
        }
      ]
    },
    {
      "cell_type": "markdown",
      "source": [
        "### 모델 정의 및 학습하기\n",
        " - 이미지 학습에 드는 계산량이 많으므로 GPU 이용"
      ],
      "metadata": {
        "id": "nW22bXCtx1Qm"
      }
    },
    {
      "cell_type": "markdown",
      "source": [
        "![캡처.PNG](data:image/png;base64,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)"
      ],
      "metadata": {
        "id": "_GBji1v6yNOl"
      }
    },
    {
      "cell_type": "code",
      "source": [
        "import torch\n",
        "import torch.nn as nn\n",
        "\n",
        "from torch.optim.adam import Adam\n",
        "\n",
        "# 학습에 사용할 프로세서 지정\n",
        "device = 'cuda' if torch.cuda.is_available() else 'cpu'\n",
        "\n",
        "model = nn.Sequential(nn.Linear(784, 64),   # MNIST의 이미지는 모두 28X28(784픽셀)\n",
        "                      nn.ReLU(),    \n",
        "                      nn.Linear(64, 64),\n",
        "                      nn.ReLU(),  \n",
        "                      nn.Linear(64, 10))\n",
        "model.to(device) # 모델의 파라미터를 GPU로 보냄\n",
        "\n",
        "lr = 1e-3\n",
        "optim = Adam(model.parameters(), lr=lr)\n",
        "\n",
        "# 전체데이터를 20번 반복학습\n",
        "for epoch in range(20):\n",
        "    for data, labels in train_loader: # len(train_loader) : 1875, 즉 1875회 순회\n",
        "        \n",
        "        # data, labels를 GPU로 보냄\n",
        "        labels = labels.to(device)\n",
        "        data = data.reshape(-1, 784).to(device) # data가 numpy/tensor배열 일때 reshape 방법\n",
        "        # data = torch.reshape(data, (-1, 784)).to(device) # data가 tensor 배열 일때 reshape 방법\n",
        "        \n",
        "        optim.zero_grad()   # 오차에 대한 각 가중치의 미분값 초기화\n",
        "        # 입력 데이터 모양을 MLP모델의 입력에 맞게(1차원 벡터) 변환\n",
        "        preds = model(data)\n",
        "        criterion = nn.CrossEntropyLoss()\n",
        "        loss = criterion(preds, labels)\n",
        "        loss.backward() # 오차에 대한 각 가중치의 미분값 계산 및 저장\n",
        "        optim.step()    # 가중치 업데이트\n",
        "    \n",
        "    print(f'epoch{epoch+1} loss:{loss.item()}')\n",
        "\n",
        "torch.save(model.state_dict(), \"MNIST.pth\") # 파이토치 모델의 파라미터(가중치)를 딕셔너리형태로 저장"
      ],
      "metadata": {
        "id": "tyOJiDjzxcZH",
        "outputId": "6cc67be8-eeeb-46f8-da83-8568a832e5b2",
        "colab": {
          "base_uri": "https://localhost:8080/"
        }
      },
      "execution_count": 55,
      "outputs": [
        {
          "output_type": "stream",
          "name": "stdout",
          "text": [
            "epoch1 loss:0.05460299178957939\n",
            "epoch2 loss:0.05946794152259827\n",
            "epoch3 loss:0.1570914089679718\n",
            "epoch4 loss:0.019854379817843437\n",
            "epoch5 loss:0.061649441719055176\n",
            "epoch6 loss:0.01879560761153698\n",
            "epoch7 loss:0.039745740592479706\n",
            "epoch8 loss:0.003945529460906982\n",
            "epoch9 loss:0.10063977539539337\n",
            "epoch10 loss:0.00634101964533329\n",
            "epoch11 loss:0.09331946820020676\n",
            "epoch12 loss:0.01891273260116577\n",
            "epoch13 loss:0.0113759133964777\n",
            "epoch14 loss:0.016848336905241013\n",
            "epoch15 loss:0.005009220913052559\n",
            "epoch16 loss:0.0014346587704494596\n",
            "epoch17 loss:0.00038900115760043263\n",
            "epoch18 loss:0.0008175951661542058\n",
            "epoch19 loss:0.08810676634311676\n",
            "epoch20 loss:2.1697453121305443e-05\n"
          ]
        }
      ]
    },
    {
      "cell_type": "markdown",
      "source": [
        "### 모델 성능 평가하기\n"
      ],
      "metadata": {
        "id": "OTOsl0Mz9KSy"
      }
    },
    {
      "cell_type": "code",
      "source": [
        "model.load_state_dict(torch.load(\"MNIST.pth\", map_location=device)) # map_location : 불러올 위치\n",
        "\n",
        "num_corr = 0 # 분류에 성공한 전체 개수 초기화\n",
        "\n",
        "with torch.no_grad():   # 기울기를 계산하지 않음(학습할때만 손실에 대한 가중치 미분값 계산이 필요)\n",
        "    for data, label in test_loader:\n",
        "        data = data.reshape(-1, 784).to(device)\n",
        "        label = label.to(device)\n",
        "\n",
        "        preds = model(data)\n",
        "\n",
        "print(num_corr)\n"
      ],
      "metadata": {
        "id": "Nlbz3_648JcL",
        "outputId": "6d328895-4910-4ae9-e034-f194fc29efdd",
        "colab": {
          "base_uri": "https://localhost:8080/",
          "height": 248
        }
      },
      "execution_count": 63,
      "outputs": [
        {
          "output_type": "error",
          "ename": "RuntimeError",
          "evalue": "ignored",
          "traceback": [
            "\u001b[0;31m---------------------------------------------------------------------------\u001b[0m",
            "\u001b[0;31mRuntimeError\u001b[0m                              Traceback (most recent call last)",
            "\u001b[0;32m<ipython-input-63-c1358ce7c80e>\u001b[0m in \u001b[0;36m<module>\u001b[0;34m\u001b[0m\n\u001b[1;32m      9\u001b[0m \u001b[0;34m\u001b[0m\u001b[0m\n\u001b[1;32m     10\u001b[0m         \u001b[0mpreds\u001b[0m \u001b[0;34m=\u001b[0m \u001b[0mmodel\u001b[0m\u001b[0;34m(\u001b[0m\u001b[0mdata\u001b[0m\u001b[0;34m)\u001b[0m\u001b[0;34m\u001b[0m\u001b[0;34m\u001b[0m\u001b[0m\n\u001b[0;32m---> 11\u001b[0;31m         \u001b[0mpreds\u001b[0m \u001b[0;34m=\u001b[0m \u001b[0mpreds\u001b[0m\u001b[0;34m.\u001b[0m\u001b[0meq\u001b[0m\u001b[0;34m(\u001b[0m\u001b[0mlabel\u001b[0m\u001b[0;34m)\u001b[0m\u001b[0;34m.\u001b[0m\u001b[0msum\u001b[0m\u001b[0;34m(\u001b[0m\u001b[0;34m)\u001b[0m\u001b[0;34m.\u001b[0m\u001b[0mitem\u001b[0m\u001b[0;34m(\u001b[0m\u001b[0;34m)\u001b[0m\u001b[0;34m\u001b[0m\u001b[0;34m\u001b[0m\u001b[0m\n\u001b[0m\u001b[1;32m     12\u001b[0m         \u001b[0mnum_corr\u001b[0m \u001b[0;34m+=\u001b[0m \u001b[0mpreds\u001b[0m\u001b[0;34m\u001b[0m\u001b[0;34m\u001b[0m\u001b[0m\n\u001b[1;32m     13\u001b[0m \u001b[0;34m\u001b[0m\u001b[0m\n",
            "\u001b[0;31mRuntimeError\u001b[0m: The size of tensor a (10) must match the size of tensor b (32) at non-singleton dimension 1"
          ]
        }
      ]
    },
    {
      "cell_type": "code",
      "source": [
        "a = torch.tensor([0,0,0,0,0,1])\n",
        "b = torch.tensor([0,0,0,1,0,0])\n",
        "\n",
        "a.eq(b)"
      ],
      "metadata": {
        "id": "IrwVXY1t-YFA",
        "outputId": "d1ddefd7-9e60-4ce9-f385-7a06abb06e7a",
        "colab": {
          "base_uri": "https://localhost:8080/"
        }
      },
      "execution_count": 60,
      "outputs": [
        {
          "output_type": "execute_result",
          "data": {
            "text/plain": [
              "tensor([ True,  True,  True, False,  True, False])"
            ]
          },
          "metadata": {},
          "execution_count": 60
        }
      ]
    },
    {
      "cell_type": "code",
      "source": [
        "a.eq(b).sum().item()"
      ],
      "metadata": {
        "id": "vIiZarzd-h8p",
        "outputId": "ec1d2a4d-ca29-40ab-c27e-aa3780b9cfce",
        "colab": {
          "base_uri": "https://localhost:8080/"
        }
      },
      "execution_count": 61,
      "outputs": [
        {
          "output_type": "execute_result",
          "data": {
            "text/plain": [
              "4"
            ]
          },
          "metadata": {},
          "execution_count": 61
        }
      ]
    },
    {
      "cell_type": "code",
      "source": [],
      "metadata": {
        "id": "TLD96xsx-myW"
      },
      "execution_count": null,
      "outputs": []
    }
  ],
  "metadata": {
    "colab": {
      "collapsed_sections": [],
      "name": "Colaboratory에 오신 것을 환영합니다",
      "provenance": [],
      "include_colab_link": true
    },
    "kernelspec": {
      "display_name": "Python 3",
      "name": "python3"
    }
  },
  "nbformat": 4,
  "nbformat_minor": 0
}